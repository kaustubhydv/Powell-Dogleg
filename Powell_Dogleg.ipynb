{
  "nbformat": 4,
  "nbformat_minor": 0,
  "metadata": {
    "colab": {
      "provenance": [],
      "authorship_tag": "ABX9TyPVN5pWTW+7bzmXX91tlUVq",
      "include_colab_link": true
    },
    "kernelspec": {
      "name": "python3",
      "display_name": "Python 3"
    },
    "language_info": {
      "name": "python"
    }
  },
  "cells": [
    {
      "cell_type": "markdown",
      "metadata": {
        "id": "view-in-github",
        "colab_type": "text"
      },
      "source": [
        "<a href=\"https://colab.research.google.com/github/kaustubhydv/Powell-Dogleg-/blob/main/Powell_Dogleg.ipynb\" target=\"_parent\"><img src=\"https://colab.research.google.com/assets/colab-badge.svg\" alt=\"Open In Colab\"/></a>"
      ]
    },
    {
      "cell_type": "code",
      "execution_count": null,
      "metadata": {
        "id": "mrqzw1OtkYpI"
      },
      "outputs": [],
      "source": [
        "import numpy as np\n",
        "import math\n",
        "from numpy.linalg import inv,det\n",
        "import matplotlib.pyplot as plt\n",
        "import copy\n",
        "import matplotlib.pyplot as plt\n",
        "import numpy.linalg as ln\n",
        "import scipy as sp\n",
        "from math import sqrt  \n",
        "\n",
        "epsilon = 10**-6\n",
        "NUM_ITER = 15000\n",
        "x_history = []\n",
        "\n",
        "delta_bar = 1\n",
        "delta0 = 0.5\n",
        "eta = 0.2"
      ]
    },
    {
      "cell_type": "code",
      "source": [
        "def norm(vec):\n",
        "  return (vec[0]**2 + vec[1]**2)**0.5\n",
        "\n",
        "def del_f_delxj(f,j,x_star,h=0.001):\n",
        "  ej = np.zeros(x_star.shape[0])\n",
        "  ej[j] = 1\n",
        "  return (f(x_star+h*ej) - f(x_star-h*ej))/(2*h)\n",
        "\n",
        "def gradient(f,x_input):\n",
        "  x_star = np.asarray(x_input)\n",
        "  return np.asarray([del_f_delxj(f,j,x_star) for j in range(x_star.shape[0])])\n",
        "\n",
        "\n",
        "def del2f_delxi2(f,x_star,i,delxi=0.001):\n",
        "  x_starp = np.copy(x_star)\n",
        "  x_starp[i] = x_starp[i] + delxi\n",
        "  x_starm = np.copy(x_star)\n",
        "  x_starm[i] = x_starm[i] - delxi\n",
        "  return (f(x_starp)-2*f(x_star)+f(x_starm))/(delxi**2)\n",
        "  \n",
        "\n",
        "\n",
        "\n",
        "def del2f_delxixj(f,x_star,i,j,delxi=0.001,delxj=0.001):\n",
        "  x_starA = np.copy(x_star)\n",
        "  x_starA[i] += delxi\n",
        "  x_starA[j] += delxj \n",
        "  \n",
        "  x_starB = np.copy(x_star)\n",
        "  x_starB[i] -= delxi\n",
        "  x_starB[j] -= delxj \n",
        "  \n",
        "  x_starC = np.copy(x_star)\n",
        "  x_starC[i] -= delxi\n",
        "  x_starC[j] += delxj \n",
        "  \n",
        "  x_starD = np.copy(x_star)\n",
        "  x_starD[i] += delxi\n",
        "  x_starD[j] -= delxj \n",
        "\n",
        "  A = f(x_starA)\n",
        "  B = f(x_starB)\n",
        "  C = f(x_starC)\n",
        "  D = f(x_starD)\n",
        "\n",
        "  return (A+B-C-D)/(4*delxi*delxj)\n",
        "\n",
        "\n",
        "\n",
        "def hessian(f,x_input):\n",
        "  x_star = np.asarray(x_input)\n",
        "  n = x_star.shape[0]\n",
        "\n",
        "  g = np.zeros((n,n))\n",
        "\n",
        "  for i in range(n):\n",
        "    for j in range(n):\n",
        "      if i==j:\n",
        "        g[i][j] = del2f_delxi2(f,x_star,i,delxi=0.001)\n",
        "      else:\n",
        "        g[i][j] = del2f_delxixj(f,x_star,i,j,delxi=0.001,delxj=0.001)\n",
        "  return g"
      ],
      "metadata": {
        "id": "TFRHYhnMoHhH"
      },
      "execution_count": null,
      "outputs": []
    },
    {
      "cell_type": "code",
      "source": [
        "def func(x_input):\n",
        "    \"\"\"\n",
        "    --------------------------------------------------------\n",
        "    Write your logic to evaluate the function value. \n",
        "\n",
        "    Input parameters:\n",
        "        x: input column vector (a numpy array of n dimension)\n",
        "\n",
        "    Returns:\n",
        "        y : Value of the function given in the problem at x.\n",
        "        \n",
        "    --------------------------------------------------------\n",
        "    \"\"\"\n",
        "    \n",
        "    # Start your code here\n",
        "    \n",
        "    y = x_input[0]**2 + x_input[1]**2 + (0.5*x_input[0] + x_input[1])**2 + (0.5*x_input[0] + x_input[1])**4 \n",
        "    #y =  (x_input[0]-1)**2 + (x_input[1]-1)**2 - x_input[0]*x_input[1]\n",
        "    # End your code here\n",
        "    \n",
        "    return y\n",
        "\n",
        "def powdogleg_method(xk,deltak,func):\n",
        "    grad = gradient(func,xk)\n",
        "    hess = hessian(func,xk)\n",
        "    Ck = np.linalg.inv(hess)\n",
        "    pN = -np.dot(Ck, grad)\n",
        "    norm_pN = sqrt(np.dot(pN, pN))\n",
        "\n",
        "    if norm_pN <= deltak:\n",
        "      return pN\n",
        "    \n",
        "    pC = - (np.dot(grad, grad) / np.dot(grad, np.dot(hess, grad))) * grad\n",
        "    dot_pC = np.dot(pC, pC)\n",
        "    norm_pC = sqrt(dot_pC)\n",
        "  \n",
        "    if norm_pC >= deltak:\n",
        "      return deltak * pC / norm_pC\n",
        "    \n",
        "    pn_pc = pN-pC\n",
        "    theta = ( -np.dot(pn_pc,pC) + (np.dot(pn_pc,pC)**2 +  (deltak**2 - norm_pC**2) * (np.dot(pn_pc,pn_pc)))**0.5 )/np.dot(pn_pc,pn_pc)\n",
        "    pN_pC = theta*pN + (1-theta)*pC\n",
        "    return pN_pC\n",
        "\n",
        "def TRPD(func, x0):\n",
        "    x0 = x0.T[0]\n",
        "    x_history.append(x0)\n",
        "    xk = x0\n",
        "    deltak = delta0\n",
        "    counter = 0\n",
        "    while counter<=NUM_ITER and norm(gradient(func,x_history[-1]))**2>epsilon:\n",
        "        grad = gradient(func,xk)\n",
        "        hess = hessian(func,xk)\n",
        "        Ck = np.linalg.inv(hess)\n",
        "        pk = powdogleg_method(x_history[-1],deltak,func)\n",
        "        act_red = func(xk) - func(xk + pk)\n",
        "        pred_red = -(np.dot(grad, pk) + 0.5 * np.dot(pk, np.dot(hess, pk)))\n",
        "        rhok = act_red / pred_red\n",
        "        norm_pk = sqrt(np.dot(pk, pk))\n",
        "        if rhok < 0.25:\n",
        "            deltak = 0.25 * norm_pk\n",
        "        else: \n",
        "            if rhok > 0.75 and norm_pk == deltak:\n",
        "                deltak = min(2.0*deltak, delta_bar)\n",
        "            else:\n",
        "                deltak = deltak\n",
        "        if rhok > eta:\n",
        "            xk = xk + pk\n",
        "        else:\n",
        "            xk = xk\n",
        "        x_history.append(xk)\n",
        "       \n",
        "        counter = counter + 1\n",
        "\n",
        "    if counter == NUM_ITER:\n",
        "      print('Maximum iterations reached but convergence did not happen \\n')\n",
        "    \n",
        "    x_output = np.asarray([x_history[-1]]).T\n",
        "    f_output = func(x_output)[0]\n",
        "    grad_output = np.asarray([gradient(func,x_history[-1])]).T\n",
        "\n",
        "    return x_output, f_output, grad_output"
      ],
      "metadata": {
        "id": "l7s9WoYioAtu"
      },
      "execution_count": null,
      "outputs": []
    },
    {
      "cell_type": "code",
      "source": [
        "x_initial = np.array([[1.5, 1.5]]).T\n",
        "\n",
        "x_output, f_output, grad_output = TRPD(func, x_initial)\n",
        "\n",
        "print(\"\\n\\nTrust Region - Powell Dogleg Method:\")\n",
        "print(\"-\"*40)\n",
        "print(\"\\nFunction converged at x = \\n\",x_output)\n",
        "print(\"\\nFunction value at converged point = \\n\",f_output)\n",
        "print(\"\\nGradient value at converged point = \\n\",grad_output)"
      ],
      "metadata": {
        "colab": {
          "base_uri": "https://localhost:8080/"
        },
        "id": "wfiLAf4v6smy",
        "outputId": "c507a7ad-152e-429d-e190-4a500d01e9bf"
      },
      "execution_count": null,
      "outputs": [
        {
          "output_type": "stream",
          "name": "stdout",
          "text": [
            "\n",
            "\n",
            "Trust Region - Powell Dogleg Method:\n",
            "----------------------------------------\n",
            "\n",
            "Function converged at x = \n",
            " [[8.68881531e-07]\n",
            " [1.71550440e-06]]\n",
            "\n",
            "Function value at converged point = \n",
            " 8.320174694924055e-12\n",
            "\n",
            "Gradient value at converged point = \n",
            " [[3.88770930e-06]\n",
            " [7.73090774e-06]]\n"
          ]
        }
      ]
    },
    {
      "cell_type": "code",
      "source": [
        "fig, axis = plt.subplots(2, 1)\n",
        "fig.set_figheight(10)\n",
        "fig.set_figwidth(6)\n",
        "x1 = [x[0] for x in x_history]\n",
        "x2 = [x[1] for x in x_history]\n",
        "f = [func(x) for x in x_history ]\n",
        "axis[0].plot(x1,label='x1')\n",
        "axis[0].plot(x2,label='x2')\n",
        "axis[0].set_xlabel('Number of Iterattions')\n",
        "axis[0].set_title('X1 and X2 vs number of iterations')\n",
        "axis[0].legend()\n",
        "\n",
        "axis[1].set_xlabel('Number of Iterattions')\n",
        "axis[1].set_title('Value of Function vs number of iterations')\n",
        "axis[1].plot(f,label='Function')\n",
        "axis[1].legend()\n",
        "plt.show()"
      ],
      "metadata": {
        "colab": {
          "base_uri": "https://localhost:8080/",
          "height": 621
        },
        "id": "Tfw9ReYuxnfr",
        "outputId": "8d422f7e-3277-4589-a194-f09775d47661"
      },
      "execution_count": null,
      "outputs": [
        {
          "output_type": "display_data",
          "data": {
            "text/plain": [
              "<Figure size 432x720 with 2 Axes>"
            ],
            "image/png": "[encoded data removed]"
          },
          "metadata": {
            "needs_background": "light"
          }
        }
      ]
    },
    {
      "cell_type": "code",
      "source": [],
      "metadata": {
        "id": "8Vc1p8tl6fam"
      },
      "execution_count": null,
      "outputs": []
    }
  ]
}